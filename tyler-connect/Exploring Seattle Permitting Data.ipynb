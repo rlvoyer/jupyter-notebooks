{
 "cells": [
  {
   "cell_type": "markdown",
   "metadata": {},
   "source": [
    "# Exploring Seattle Building Permit Data in Python"
   ]
  },
  {
   "cell_type": "markdown",
   "metadata": {},
   "source": [
    "Before we get started with any data, we need to make sure our environment has all the Python dependencies we need. In the cell below, we'll use the `pip install` command to install those dependencies. Typically, you might run this command directly from a command-line in a terminal application. You can get the same effect from within a Jupyter notebook by prepending an exaclamation point `!` to that command, which indicates to the interpreter that the command should be passed through to the shell."
   ]
  },
  {
   "cell_type": "code",
   "execution_count": null,
   "metadata": {},
   "outputs": [],
   "source": [
    "# ROBERT TODO: create bitly link for notebooks\n",
    "#!conda install pandas\n",
    "#!conda install geopandas\n",
    "#!conda install shapely\n",
    "#!conda install statsmodels\n",
    "#!pip install sodapy"
   ]
  },
  {
   "cell_type": "markdown",
   "metadata": {},
   "source": [
    "## Loading datasets into our notebook"
   ]
  },
  {
   "cell_type": "markdown",
   "metadata": {},
   "source": [
    "We'll start with two datasets as the basis of our analysis. We'll load a city of Seattle permits dataset as well as a shapefile with polygons defined for each of the neighborhoods in the state of Washington. We download these datasets into pandas DataFrames using the open source sodapy Python Socrata module."
   ]
  },
  {
   "cell_type": "code",
   "execution_count": 1,
   "metadata": {},
   "outputs": [
    {
     "name": "stderr",
     "output_type": "stream",
     "text": [
      "WARNING:root:Requests made without an app_token will be subject to strict throttling limits.\n",
      "WARNING:root:Requests made without an app_token will be subject to strict throttling limits.\n"
     ]
    }
   ],
   "source": [
    "import pandas as pd\n",
    "from sodapy import Socrata\n",
    "\n",
    "def download_dataset(domain, dataset_id):\n",
    "    # for this exercise, we're not using an app token,\n",
    "    # but you *should* sign-up and register for an app_token if you want to use the Socrata API\n",
    "    client = Socrata(domain, app_token=None)\n",
    "    offset = None\n",
    "    data = []\n",
    "    batch_size = 1000\n",
    "\n",
    "    while True:\n",
    "        records = client.get(dataset_id, offset=offset, limit=batch_size)\n",
    "        data.extend(records)\n",
    "        if len(records) < batch_size:\n",
    "            break\n",
    "        offset = offset + batch_size if (offset) else batch_size\n",
    "\n",
    "    return pd.DataFrame.from_dict(data)\n",
    "\n",
    "def download_permits_dataset():\n",
    "    return seattle_permits_df if \"seattle_permits_df\" in globals() else download_dataset(\"data.seattle.gov\", \"k44w-2dcq\")\n",
    "\n",
    "def download_neighborhoods_dataset():\n",
    "    return wa_neighborhoods_df if \"wa_neighborhoods_df\" in globals() else download_dataset(\"robo.demo.socrata.com\", \"smef-bsgr\")\n",
    "\n",
    "# load Seattle permits data\n",
    "seattle_permits_df = download_permits_dataset()\n",
    "\n",
    "# load shapefile data\n",
    "wa_neighborhoods_df = download_neighborhoods_dataset()"
   ]
  },
  {
   "cell_type": "markdown",
   "metadata": {},
   "source": [
    "In the new few cells we'll do some exploration of our datasets using the `len`, `head`, and `value_counts` functions. We'll start by getting a sense of how many rows are in each of our datasets with the `len` function."
   ]
  },
  {
   "cell_type": "code",
   "execution_count": 29,
   "metadata": {},
   "outputs": [
    {
     "data": {
      "text/plain": [
       "109337"
      ]
     },
     "execution_count": 29,
     "metadata": {},
     "output_type": "execute_result"
    }
   ],
   "source": [
    "len(seattle_permits_df)"
   ]
  },
  {
   "cell_type": "code",
   "execution_count": 30,
   "metadata": {},
   "outputs": [
    {
     "data": {
      "text/plain": [
       "586"
      ]
     },
     "execution_count": 30,
     "metadata": {},
     "output_type": "execute_result"
    }
   ],
   "source": [
    "len(wa_neighborhoods_df)"
   ]
  },
  {
   "cell_type": "markdown",
   "metadata": {},
   "source": [
    "Now let's see have a peek at the first 5 rows in each of those dataset using the `head` method. You can optionally pass a parameter for the number of rows you want to print if 5 isn't enough."
   ]
  },
  {
   "cell_type": "code",
   "execution_count": 31,
   "metadata": {},
   "outputs": [
    {
     "data": {
      "text/html": [
       "<div>\n",
       "<style scoped>\n",
       "    .dataframe tbody tr th:only-of-type {\n",
       "        vertical-align: middle;\n",
       "    }\n",
       "\n",
       "    .dataframe tbody tr th {\n",
       "        vertical-align: top;\n",
       "    }\n",
       "\n",
       "    .dataframe thead th {\n",
       "        text-align: right;\n",
       "    }\n",
       "</style>\n",
       "<table border=\"1\" class=\"dataframe\">\n",
       "  <thead>\n",
       "    <tr style=\"text-align: right;\">\n",
       "      <th></th>\n",
       "      <th>applieddate</th>\n",
       "      <th>latitude</th>\n",
       "      <th>longitude</th>\n",
       "      <th>point</th>\n",
       "    </tr>\n",
       "  </thead>\n",
       "  <tbody>\n",
       "    <tr>\n",
       "      <th>0</th>\n",
       "      <td>2018-11-14</td>\n",
       "      <td>47.605013</td>\n",
       "      <td>-122.329895</td>\n",
       "      <td>POINT (-122.32989532 47.60501319)</td>\n",
       "    </tr>\n",
       "    <tr>\n",
       "      <th>1</th>\n",
       "      <td>2018-11-27</td>\n",
       "      <td>47.689684</td>\n",
       "      <td>-122.352804</td>\n",
       "      <td>POINT (-122.35280411 47.68968405)</td>\n",
       "    </tr>\n",
       "    <tr>\n",
       "      <th>2</th>\n",
       "      <td>2019-03-20</td>\n",
       "      <td>47.638894</td>\n",
       "      <td>-122.371199</td>\n",
       "      <td>POINT (-122.37119949 47.63889401)</td>\n",
       "    </tr>\n",
       "    <tr>\n",
       "      <th>3</th>\n",
       "      <td>2018-07-31</td>\n",
       "      <td>47.617335</td>\n",
       "      <td>-122.320567</td>\n",
       "      <td>POINT (-122.32056748 47.61733542)</td>\n",
       "    </tr>\n",
       "    <tr>\n",
       "      <th>4</th>\n",
       "      <td>2015-11-04</td>\n",
       "      <td>47.621277</td>\n",
       "      <td>-122.316535</td>\n",
       "      <td>POINT (-122.31653528 47.62127688)</td>\n",
       "    </tr>\n",
       "  </tbody>\n",
       "</table>\n",
       "</div>"
      ],
      "text/plain": [
       "  applieddate   latitude   longitude                              point\n",
       "0  2018-11-14  47.605013 -122.329895  POINT (-122.32989532 47.60501319)\n",
       "1  2018-11-27  47.689684 -122.352804  POINT (-122.35280411 47.68968405)\n",
       "2  2019-03-20  47.638894 -122.371199  POINT (-122.37119949 47.63889401)\n",
       "3  2018-07-31  47.617335 -122.320567  POINT (-122.32056748 47.61733542)\n",
       "4  2015-11-04  47.621277 -122.316535  POINT (-122.31653528 47.62127688)"
      ]
     },
     "execution_count": 31,
     "metadata": {},
     "output_type": "execute_result"
    }
   ],
   "source": [
    "seattle_permits_df.head()"
   ]
  },
  {
   "cell_type": "code",
   "execution_count": 32,
   "metadata": {},
   "outputs": [
    {
     "data": {
      "text/html": [
       "<div>\n",
       "<style scoped>\n",
       "    .dataframe tbody tr th:only-of-type {\n",
       "        vertical-align: middle;\n",
       "    }\n",
       "\n",
       "    .dataframe tbody tr th {\n",
       "        vertical-align: top;\n",
       "    }\n",
       "\n",
       "    .dataframe thead th {\n",
       "        text-align: right;\n",
       "    }\n",
       "</style>\n",
       "<table border=\"1\" class=\"dataframe\">\n",
       "  <thead>\n",
       "    <tr style=\"text-align: right;\">\n",
       "      <th></th>\n",
       "      <th>city</th>\n",
       "      <th>county</th>\n",
       "      <th>name</th>\n",
       "      <th>regionid</th>\n",
       "      <th>state</th>\n",
       "      <th>the_geom</th>\n",
       "    </tr>\n",
       "  </thead>\n",
       "  <tbody>\n",
       "    <tr>\n",
       "      <th>0</th>\n",
       "      <td>Issaquah</td>\n",
       "      <td>King</td>\n",
       "      <td>Klahanie</td>\n",
       "      <td>762903</td>\n",
       "      <td>WA</td>\n",
       "      <td>{'type': 'MultiPolygon', 'coordinates': [[[[-1...</td>\n",
       "    </tr>\n",
       "    <tr>\n",
       "      <th>1</th>\n",
       "      <td>Issaquah</td>\n",
       "      <td>King</td>\n",
       "      <td>Issaquah Valley</td>\n",
       "      <td>762908</td>\n",
       "      <td>WA</td>\n",
       "      <td>{'type': 'MultiPolygon', 'coordinates': [[[[-1...</td>\n",
       "    </tr>\n",
       "    <tr>\n",
       "      <th>2</th>\n",
       "      <td>Kent</td>\n",
       "      <td>King</td>\n",
       "      <td>Riverview</td>\n",
       "      <td>409601</td>\n",
       "      <td>WA</td>\n",
       "      <td>{'type': 'MultiPolygon', 'coordinates': [[[[-1...</td>\n",
       "    </tr>\n",
       "    <tr>\n",
       "      <th>3</th>\n",
       "      <td>Kent</td>\n",
       "      <td>King</td>\n",
       "      <td>Lake Meridian</td>\n",
       "      <td>762460</td>\n",
       "      <td>WA</td>\n",
       "      <td>{'type': 'MultiPolygon', 'coordinates': [[[[-1...</td>\n",
       "    </tr>\n",
       "    <tr>\n",
       "      <th>4</th>\n",
       "      <td>Kent</td>\n",
       "      <td>King</td>\n",
       "      <td>West Hill</td>\n",
       "      <td>762683</td>\n",
       "      <td>WA</td>\n",
       "      <td>{'type': 'MultiPolygon', 'coordinates': [[[[-1...</td>\n",
       "    </tr>\n",
       "  </tbody>\n",
       "</table>\n",
       "</div>"
      ],
      "text/plain": [
       "       city county             name regionid state  \\\n",
       "0  Issaquah   King         Klahanie   762903    WA   \n",
       "1  Issaquah   King  Issaquah Valley   762908    WA   \n",
       "2      Kent   King        Riverview   409601    WA   \n",
       "3      Kent   King    Lake Meridian   762460    WA   \n",
       "4      Kent   King        West Hill   762683    WA   \n",
       "\n",
       "                                            the_geom  \n",
       "0  {'type': 'MultiPolygon', 'coordinates': [[[[-1...  \n",
       "1  {'type': 'MultiPolygon', 'coordinates': [[[[-1...  \n",
       "2  {'type': 'MultiPolygon', 'coordinates': [[[[-1...  \n",
       "3  {'type': 'MultiPolygon', 'coordinates': [[[[-1...  \n",
       "4  {'type': 'MultiPolygon', 'coordinates': [[[[-1...  "
      ]
     },
     "execution_count": 32,
     "metadata": {},
     "output_type": "execute_result"
    }
   ],
   "source": [
    "wa_neighborhoods_df.head()"
   ]
  },
  {
   "cell_type": "markdown",
   "metadata": {},
   "source": [
    "Printing our dataframes like this gives us a sense of what columns exist, as well as the frequently occurring values in the dataset. But there's an even better way to detrmine the top values for a particular column."
   ]
  },
  {
   "cell_type": "code",
   "execution_count": 4,
   "metadata": {},
   "outputs": [
    {
     "data": {
      "text/plain": [
       "NaN           14273\n",
       "2005-11-17      130\n",
       "2016-06-17      111\n",
       "2016-06-23       89\n",
       "2015-11-24       84\n",
       "2018-01-17       78\n",
       "2013-12-23       78\n",
       "2015-06-10       78\n",
       "2006-08-02       77\n",
       "2015-04-16       77\n",
       "Name: applieddate, dtype: int64"
      ]
     },
     "execution_count": 4,
     "metadata": {},
     "output_type": "execute_result"
    }
   ],
   "source": [
    "seattle_permits_df[\"applieddate\"].value_counts(dropna=False).head(10)"
   ]
  },
  {
   "cell_type": "markdown",
   "metadata": {},
   "source": [
    "## Removing missing values"
   ]
  },
  {
   "cell_type": "markdown",
   "metadata": {},
   "source": [
    "The value counts make it clear that a lot of the value in the \"applieddate\" column are missing or null. Since the crux of our analysis is time and location, we need to handle those missing values. There a variety of ways you can handle missing data, but removing incomplete rows is the simplest, so it's what we'll do here today. In the next cell, we'll remove null dates and null latitude and longitude columns. There are also a lot of columns in the permits dataset that we won't use in this analysis. So we'll also filter down our dataset to just the columns we're interested in to reduce the amount of extraneous information."
   ]
  },
  {
   "cell_type": "code",
   "execution_count": 5,
   "metadata": {},
   "outputs": [
    {
     "data": {
      "text/html": [
       "<div>\n",
       "<style scoped>\n",
       "    .dataframe tbody tr th:only-of-type {\n",
       "        vertical-align: middle;\n",
       "    }\n",
       "\n",
       "    .dataframe tbody tr th {\n",
       "        vertical-align: top;\n",
       "    }\n",
       "\n",
       "    .dataframe thead th {\n",
       "        text-align: right;\n",
       "    }\n",
       "</style>\n",
       "<table border=\"1\" class=\"dataframe\">\n",
       "  <thead>\n",
       "    <tr style=\"text-align: right;\">\n",
       "      <th></th>\n",
       "      <th>applieddate</th>\n",
       "      <th>latitude</th>\n",
       "      <th>longitude</th>\n",
       "    </tr>\n",
       "  </thead>\n",
       "  <tbody>\n",
       "    <tr>\n",
       "      <th>0</th>\n",
       "      <td>2018-11-14</td>\n",
       "      <td>47.60501319</td>\n",
       "      <td>-122.32989532</td>\n",
       "    </tr>\n",
       "    <tr>\n",
       "      <th>1</th>\n",
       "      <td>2018-11-27</td>\n",
       "      <td>47.68968405</td>\n",
       "      <td>-122.35280411</td>\n",
       "    </tr>\n",
       "    <tr>\n",
       "      <th>2</th>\n",
       "      <td>2019-03-20</td>\n",
       "      <td>47.63889401</td>\n",
       "      <td>-122.37119949</td>\n",
       "    </tr>\n",
       "    <tr>\n",
       "      <th>3</th>\n",
       "      <td>2018-07-31</td>\n",
       "      <td>47.61733542</td>\n",
       "      <td>-122.32056748</td>\n",
       "    </tr>\n",
       "    <tr>\n",
       "      <th>4</th>\n",
       "      <td>2015-11-04</td>\n",
       "      <td>47.62127688</td>\n",
       "      <td>-122.31653528</td>\n",
       "    </tr>\n",
       "    <tr>\n",
       "      <th>5</th>\n",
       "      <td>2017-04-21</td>\n",
       "      <td>47.53640598</td>\n",
       "      <td>-122.34498359</td>\n",
       "    </tr>\n",
       "    <tr>\n",
       "      <th>6</th>\n",
       "      <td>2019-03-20</td>\n",
       "      <td>47.67779275</td>\n",
       "      <td>-122.28030142</td>\n",
       "    </tr>\n",
       "    <tr>\n",
       "      <th>7</th>\n",
       "      <td>2018-06-18</td>\n",
       "      <td>47.61218841</td>\n",
       "      <td>-122.31433694</td>\n",
       "    </tr>\n",
       "    <tr>\n",
       "      <th>8</th>\n",
       "      <td>2019-03-20</td>\n",
       "      <td>47.52492045</td>\n",
       "      <td>-122.28618252</td>\n",
       "    </tr>\n",
       "    <tr>\n",
       "      <th>9</th>\n",
       "      <td>2014-09-19</td>\n",
       "      <td>47.53027771</td>\n",
       "      <td>-122.28120692</td>\n",
       "    </tr>\n",
       "    <tr>\n",
       "      <th>10</th>\n",
       "      <td>2017-04-21</td>\n",
       "      <td>47.60411459</td>\n",
       "      <td>-122.33226664</td>\n",
       "    </tr>\n",
       "    <tr>\n",
       "      <th>11</th>\n",
       "      <td>2019-02-20</td>\n",
       "      <td>47.66203113</td>\n",
       "      <td>-122.37412195</td>\n",
       "    </tr>\n",
       "    <tr>\n",
       "      <th>12</th>\n",
       "      <td>2018-11-13</td>\n",
       "      <td>47.62498023</td>\n",
       "      <td>-122.35966767</td>\n",
       "    </tr>\n",
       "    <tr>\n",
       "      <th>13</th>\n",
       "      <td>2019-01-22</td>\n",
       "      <td>47.71536908</td>\n",
       "      <td>-122.32311706</td>\n",
       "    </tr>\n",
       "    <tr>\n",
       "      <th>14</th>\n",
       "      <td>2017-08-17</td>\n",
       "      <td>47.65732397</td>\n",
       "      <td>-122.34814237</td>\n",
       "    </tr>\n",
       "    <tr>\n",
       "      <th>15</th>\n",
       "      <td>2019-01-29</td>\n",
       "      <td>47.54051959</td>\n",
       "      <td>-122.37893928</td>\n",
       "    </tr>\n",
       "    <tr>\n",
       "      <th>16</th>\n",
       "      <td>2017-07-10</td>\n",
       "      <td>47.50979481</td>\n",
       "      <td>-122.38860557</td>\n",
       "    </tr>\n",
       "    <tr>\n",
       "      <th>17</th>\n",
       "      <td>2019-03-20</td>\n",
       "      <td>47.71537151</td>\n",
       "      <td>-122.29791473</td>\n",
       "    </tr>\n",
       "    <tr>\n",
       "      <th>18</th>\n",
       "      <td>2017-11-22</td>\n",
       "      <td>47.54263888</td>\n",
       "      <td>-122.37408397</td>\n",
       "    </tr>\n",
       "    <tr>\n",
       "      <th>19</th>\n",
       "      <td>2018-10-18</td>\n",
       "      <td>47.60973137</td>\n",
       "      <td>-122.34039035</td>\n",
       "    </tr>\n",
       "    <tr>\n",
       "      <th>20</th>\n",
       "      <td>2019-03-20</td>\n",
       "      <td>47.53567995</td>\n",
       "      <td>-122.36631196</td>\n",
       "    </tr>\n",
       "    <tr>\n",
       "      <th>21</th>\n",
       "      <td>2018-12-21</td>\n",
       "      <td>47.66231885</td>\n",
       "      <td>-122.2814725</td>\n",
       "    </tr>\n",
       "    <tr>\n",
       "      <th>22</th>\n",
       "      <td>2018-06-12</td>\n",
       "      <td>47.69558119</td>\n",
       "      <td>-122.37575895</td>\n",
       "    </tr>\n",
       "    <tr>\n",
       "      <th>23</th>\n",
       "      <td>2018-10-31</td>\n",
       "      <td>47.62459765</td>\n",
       "      <td>-122.32175983</td>\n",
       "    </tr>\n",
       "    <tr>\n",
       "      <th>24</th>\n",
       "      <td>2018-12-02</td>\n",
       "      <td>47.68531392</td>\n",
       "      <td>-122.37725336</td>\n",
       "    </tr>\n",
       "    <tr>\n",
       "      <th>25</th>\n",
       "      <td>2017-03-27</td>\n",
       "      <td>47.62166901</td>\n",
       "      <td>-122.31539629</td>\n",
       "    </tr>\n",
       "    <tr>\n",
       "      <th>26</th>\n",
       "      <td>2019-03-20</td>\n",
       "      <td>47.72251751</td>\n",
       "      <td>-122.35511024</td>\n",
       "    </tr>\n",
       "    <tr>\n",
       "      <th>27</th>\n",
       "      <td>2016-05-16</td>\n",
       "      <td>47.5378447</td>\n",
       "      <td>-122.26282189</td>\n",
       "    </tr>\n",
       "    <tr>\n",
       "      <th>28</th>\n",
       "      <td>2019-03-05</td>\n",
       "      <td>47.59970465</td>\n",
       "      <td>-122.30365604</td>\n",
       "    </tr>\n",
       "    <tr>\n",
       "      <th>29</th>\n",
       "      <td>2017-01-05</td>\n",
       "      <td>47.53233279</td>\n",
       "      <td>-122.27983636</td>\n",
       "    </tr>\n",
       "    <tr>\n",
       "      <th>...</th>\n",
       "      <td>...</td>\n",
       "      <td>...</td>\n",
       "      <td>...</td>\n",
       "    </tr>\n",
       "    <tr>\n",
       "      <th>109307</th>\n",
       "      <td>2014-08-12</td>\n",
       "      <td>47.70289062</td>\n",
       "      <td>-122.29648077</td>\n",
       "    </tr>\n",
       "    <tr>\n",
       "      <th>109308</th>\n",
       "      <td>2017-02-08</td>\n",
       "      <td>47.68749436</td>\n",
       "      <td>-122.34898133</td>\n",
       "    </tr>\n",
       "    <tr>\n",
       "      <th>109309</th>\n",
       "      <td>2015-12-11</td>\n",
       "      <td>47.67617274</td>\n",
       "      <td>-122.36532136</td>\n",
       "    </tr>\n",
       "    <tr>\n",
       "      <th>109310</th>\n",
       "      <td>2016-04-19</td>\n",
       "      <td>47.57104413</td>\n",
       "      <td>-122.37789445</td>\n",
       "    </tr>\n",
       "    <tr>\n",
       "      <th>109311</th>\n",
       "      <td>2007-04-18</td>\n",
       "      <td>47.60106744</td>\n",
       "      <td>-122.33459091</td>\n",
       "    </tr>\n",
       "    <tr>\n",
       "      <th>109312</th>\n",
       "      <td>2016-10-07</td>\n",
       "      <td>47.65868506</td>\n",
       "      <td>-122.35147762</td>\n",
       "    </tr>\n",
       "    <tr>\n",
       "      <th>109313</th>\n",
       "      <td>2010-04-07</td>\n",
       "      <td>47.55222355</td>\n",
       "      <td>-122.32636629</td>\n",
       "    </tr>\n",
       "    <tr>\n",
       "      <th>109314</th>\n",
       "      <td>2017-09-24</td>\n",
       "      <td>47.6615389</td>\n",
       "      <td>-122.29926621</td>\n",
       "    </tr>\n",
       "    <tr>\n",
       "      <th>109315</th>\n",
       "      <td>2015-10-20</td>\n",
       "      <td>47.67158562</td>\n",
       "      <td>-122.27724972</td>\n",
       "    </tr>\n",
       "    <tr>\n",
       "      <th>109316</th>\n",
       "      <td>2018-10-04</td>\n",
       "      <td>47.54711505</td>\n",
       "      <td>-122.37800603</td>\n",
       "    </tr>\n",
       "    <tr>\n",
       "      <th>109317</th>\n",
       "      <td>2016-05-06</td>\n",
       "      <td>47.66723775</td>\n",
       "      <td>-122.27766815</td>\n",
       "    </tr>\n",
       "    <tr>\n",
       "      <th>109318</th>\n",
       "      <td>2012-04-24</td>\n",
       "      <td>47.65295783</td>\n",
       "      <td>-122.39079258</td>\n",
       "    </tr>\n",
       "    <tr>\n",
       "      <th>109319</th>\n",
       "      <td>2006-05-04</td>\n",
       "      <td>47.63999097</td>\n",
       "      <td>-122.36125663</td>\n",
       "    </tr>\n",
       "    <tr>\n",
       "      <th>109320</th>\n",
       "      <td>2006-09-14</td>\n",
       "      <td>47.67180234</td>\n",
       "      <td>-122.26432679</td>\n",
       "    </tr>\n",
       "    <tr>\n",
       "      <th>109321</th>\n",
       "      <td>2017-05-01</td>\n",
       "      <td>47.64087223</td>\n",
       "      <td>-122.36728581</td>\n",
       "    </tr>\n",
       "    <tr>\n",
       "      <th>109322</th>\n",
       "      <td>2011-06-21</td>\n",
       "      <td>47.59600168</td>\n",
       "      <td>-122.31673166</td>\n",
       "    </tr>\n",
       "    <tr>\n",
       "      <th>109323</th>\n",
       "      <td>2013-02-06</td>\n",
       "      <td>47.57139026</td>\n",
       "      <td>-122.38603932</td>\n",
       "    </tr>\n",
       "    <tr>\n",
       "      <th>109324</th>\n",
       "      <td>2010-04-05</td>\n",
       "      <td>47.54992756</td>\n",
       "      <td>-122.37941618</td>\n",
       "    </tr>\n",
       "    <tr>\n",
       "      <th>109325</th>\n",
       "      <td>2010-03-16</td>\n",
       "      <td>47.56336859</td>\n",
       "      <td>-122.29340454</td>\n",
       "    </tr>\n",
       "    <tr>\n",
       "      <th>109326</th>\n",
       "      <td>2009-03-23</td>\n",
       "      <td>47.69871529</td>\n",
       "      <td>-122.39895848</td>\n",
       "    </tr>\n",
       "    <tr>\n",
       "      <th>109327</th>\n",
       "      <td>2013-06-21</td>\n",
       "      <td>47.67135799</td>\n",
       "      <td>-122.38539648</td>\n",
       "    </tr>\n",
       "    <tr>\n",
       "      <th>109328</th>\n",
       "      <td>2013-05-09</td>\n",
       "      <td>47.60896713</td>\n",
       "      <td>-122.33482136</td>\n",
       "    </tr>\n",
       "    <tr>\n",
       "      <th>109329</th>\n",
       "      <td>2014-02-06</td>\n",
       "      <td>47.63596506</td>\n",
       "      <td>-122.32621258</td>\n",
       "    </tr>\n",
       "    <tr>\n",
       "      <th>109330</th>\n",
       "      <td>2008-04-11</td>\n",
       "      <td>47.57523092</td>\n",
       "      <td>-122.30717126</td>\n",
       "    </tr>\n",
       "    <tr>\n",
       "      <th>109331</th>\n",
       "      <td>2005-06-29</td>\n",
       "      <td>47.56598686</td>\n",
       "      <td>-122.3678907</td>\n",
       "    </tr>\n",
       "    <tr>\n",
       "      <th>109332</th>\n",
       "      <td>2017-04-04</td>\n",
       "      <td>47.53384354</td>\n",
       "      <td>-122.2737409</td>\n",
       "    </tr>\n",
       "    <tr>\n",
       "      <th>109333</th>\n",
       "      <td>2006-11-01</td>\n",
       "      <td>47.62535204</td>\n",
       "      <td>-122.29963357</td>\n",
       "    </tr>\n",
       "    <tr>\n",
       "      <th>109334</th>\n",
       "      <td>2008-08-05</td>\n",
       "      <td>47.73302953</td>\n",
       "      <td>-122.36720148</td>\n",
       "    </tr>\n",
       "    <tr>\n",
       "      <th>109335</th>\n",
       "      <td>2008-07-02</td>\n",
       "      <td>47.52938373</td>\n",
       "      <td>-122.38449206</td>\n",
       "    </tr>\n",
       "    <tr>\n",
       "      <th>109336</th>\n",
       "      <td>2008-07-07</td>\n",
       "      <td>47.63896397</td>\n",
       "      <td>-122.36019149</td>\n",
       "    </tr>\n",
       "  </tbody>\n",
       "</table>\n",
       "<p>109337 rows × 3 columns</p>\n",
       "</div>"
      ],
      "text/plain": [
       "       applieddate     latitude      longitude\n",
       "0       2018-11-14  47.60501319  -122.32989532\n",
       "1       2018-11-27  47.68968405  -122.35280411\n",
       "2       2019-03-20  47.63889401  -122.37119949\n",
       "3       2018-07-31  47.61733542  -122.32056748\n",
       "4       2015-11-04  47.62127688  -122.31653528\n",
       "5       2017-04-21  47.53640598  -122.34498359\n",
       "6       2019-03-20  47.67779275  -122.28030142\n",
       "7       2018-06-18  47.61218841  -122.31433694\n",
       "8       2019-03-20  47.52492045  -122.28618252\n",
       "9       2014-09-19  47.53027771  -122.28120692\n",
       "10      2017-04-21  47.60411459  -122.33226664\n",
       "11      2019-02-20  47.66203113  -122.37412195\n",
       "12      2018-11-13  47.62498023  -122.35966767\n",
       "13      2019-01-22  47.71536908  -122.32311706\n",
       "14      2017-08-17  47.65732397  -122.34814237\n",
       "15      2019-01-29  47.54051959  -122.37893928\n",
       "16      2017-07-10  47.50979481  -122.38860557\n",
       "17      2019-03-20  47.71537151  -122.29791473\n",
       "18      2017-11-22  47.54263888  -122.37408397\n",
       "19      2018-10-18  47.60973137  -122.34039035\n",
       "20      2019-03-20  47.53567995  -122.36631196\n",
       "21      2018-12-21  47.66231885   -122.2814725\n",
       "22      2018-06-12  47.69558119  -122.37575895\n",
       "23      2018-10-31  47.62459765  -122.32175983\n",
       "24      2018-12-02  47.68531392  -122.37725336\n",
       "25      2017-03-27  47.62166901  -122.31539629\n",
       "26      2019-03-20  47.72251751  -122.35511024\n",
       "27      2016-05-16   47.5378447  -122.26282189\n",
       "28      2019-03-05  47.59970465  -122.30365604\n",
       "29      2017-01-05  47.53233279  -122.27983636\n",
       "...            ...          ...            ...\n",
       "109307  2014-08-12  47.70289062  -122.29648077\n",
       "109308  2017-02-08  47.68749436  -122.34898133\n",
       "109309  2015-12-11  47.67617274  -122.36532136\n",
       "109310  2016-04-19  47.57104413  -122.37789445\n",
       "109311  2007-04-18  47.60106744  -122.33459091\n",
       "109312  2016-10-07  47.65868506  -122.35147762\n",
       "109313  2010-04-07  47.55222355  -122.32636629\n",
       "109314  2017-09-24   47.6615389  -122.29926621\n",
       "109315  2015-10-20  47.67158562  -122.27724972\n",
       "109316  2018-10-04  47.54711505  -122.37800603\n",
       "109317  2016-05-06  47.66723775  -122.27766815\n",
       "109318  2012-04-24  47.65295783  -122.39079258\n",
       "109319  2006-05-04  47.63999097  -122.36125663\n",
       "109320  2006-09-14  47.67180234  -122.26432679\n",
       "109321  2017-05-01  47.64087223  -122.36728581\n",
       "109322  2011-06-21  47.59600168  -122.31673166\n",
       "109323  2013-02-06  47.57139026  -122.38603932\n",
       "109324  2010-04-05  47.54992756  -122.37941618\n",
       "109325  2010-03-16  47.56336859  -122.29340454\n",
       "109326  2009-03-23  47.69871529  -122.39895848\n",
       "109327  2013-06-21  47.67135799  -122.38539648\n",
       "109328  2013-05-09  47.60896713  -122.33482136\n",
       "109329  2014-02-06  47.63596506  -122.32621258\n",
       "109330  2008-04-11  47.57523092  -122.30717126\n",
       "109331  2005-06-29  47.56598686   -122.3678907\n",
       "109332  2017-04-04  47.53384354   -122.2737409\n",
       "109333  2006-11-01  47.62535204  -122.29963357\n",
       "109334  2008-08-05  47.73302953  -122.36720148\n",
       "109335  2008-07-02  47.52938373  -122.38449206\n",
       "109336  2008-07-07  47.63896397  -122.36019149\n",
       "\n",
       "[109337 rows x 3 columns]"
      ]
     },
     "execution_count": 5,
     "metadata": {},
     "output_type": "execute_result"
    }
   ],
   "source": [
    "seattle_permits_df = seattle_permits_df[seattle_permits_df[\"applieddate\"].notnull()]\n",
    "seattle_permits_df = seattle_permits_df[seattle_permits_df[\"latitude\"].notnull()]\n",
    "seattle_permits_df = seattle_permits_df[seattle_permits_df[\"longitude\"].notnull()]\n",
    "seattle_permits_df = seattle_permits_df[[\"applieddate\", \"latitude\", \"longitude\"]].reset_index(drop=True)\n",
    "seattle_permits_df"
   ]
  },
  {
   "cell_type": "markdown",
   "metadata": {},
   "source": [
    "## Visualizing place-based data with Socrata Maps"
   ]
  },
  {
   "cell_type": "markdown",
   "metadata": {},
   "source": [
    "Loading and visualizing geographical data is relatively straight-forward in the Socrata UI. Before doing any additional work in Python, let's embed a map created in Socrata using its embed link. You'll notice that since the map is embedded within an IFrame (using iPython's IFrame class), that its dynamic and we have preserved all the functionality from the map experience in the platform\n",
    "\n",
    "The map below is a point map. Each of the rows from our permit dataset is rendered as a point on the map. Any observations about this visualization?"
   ]
  },
  {
   "cell_type": "code",
   "execution_count": 68,
   "metadata": {},
   "outputs": [
    {
     "data": {
      "text/html": [
       "\n",
       "        <iframe\n",
       "            width=\"800\"\n",
       "            height=\"600\"\n",
       "            src=\"https://robo.demo.socrata.com/dataset/Seattle-Building-Permits-Point-Map/7unc-ff4h/embed?width=800&height=600\"\n",
       "            frameborder=\"0\"\n",
       "            allowfullscreen\n",
       "        ></iframe>\n",
       "        "
      ],
      "text/plain": [
       "<IPython.lib.display.IFrame at 0x13a7bdb38>"
      ]
     },
     "execution_count": 68,
     "metadata": {},
     "output_type": "execute_result"
    }
   ],
   "source": [
    "from IPython.display import IFrame\n",
    "IFrame('https://robo.demo.socrata.com/dataset/Seattle-Building-Permits-Point-Map/7unc-ff4h/embed?width=800&height=600', width=800, height=600)"
   ]
  },
  {
   "cell_type": "markdown",
   "metadata": {},
   "source": [
    "We can do better! We can also create a multi-layer choropleth map where we aggregate our points based on the neighborhoods that they fall within."
   ]
  },
  {
   "cell_type": "code",
   "execution_count": 69,
   "metadata": {
    "scrolled": true
   },
   "outputs": [
    {
     "data": {
      "text/html": [
       "\n",
       "        <iframe\n",
       "            width=\"800\"\n",
       "            height=\"600\"\n",
       "            src=\"https://robo.demo.socrata.com/dataset/Seattle-Building-Permits-Choropleth/i6rm-ys8r/embed?width=800&height=600\"\n",
       "            frameborder=\"0\"\n",
       "            allowfullscreen\n",
       "        ></iframe>\n",
       "        "
      ],
      "text/plain": [
       "<IPython.lib.display.IFrame at 0x13a7bd278>"
      ]
     },
     "execution_count": 69,
     "metadata": {},
     "output_type": "execute_result"
    }
   ],
   "source": [
    "from IPython.display import IFrame\n",
    "IFrame(\"https://robo.demo.socrata.com/dataset/Seattle-Building-Permits-Choropleth/i6rm-ys8r/embed?width=800&height=600\", width=800, height=600)"
   ]
  },
  {
   "cell_type": "markdown",
   "metadata": {},
   "source": [
    "## Prepping our geographic columns"
   ]
  },
  {
   "cell_type": "markdown",
   "metadata": {},
   "source": [
    "Notice that the neighborhood shapefile we imported from Socrata contained boundaries for all neighborhoods in the state of Washington. Let's filter that down to the city of Seattle, since that's the focus of this analysis.\n",
    "\n",
    "One of the really powerful features of notebooks is that you can execute arbitrary code to transform your data. Since data wrangling is one of the fundamental tasks in any data analysis project, it's essential that we have tools to reshape and slice our data. This is one of the strengths of the pandas in Python."
   ]
  },
  {
   "cell_type": "code",
   "execution_count": 8,
   "metadata": {},
   "outputs": [],
   "source": [
    "#seattle_neighborhoods_df = wa_neighborhoods_df[wa_neighborhoods_df[\"city\"] == \"Seattle\"].reset_index(drop=True)\n",
    "seattle_neighborhoods_df = wa_neighborhoods_df[wa_neighborhoods_df[\"city\"] == \"Seattle\"]"
   ]
  },
  {
   "cell_type": "markdown",
   "metadata": {},
   "source": [
    "We have already loaded the underlying neighborhood shapes, but let's make our coordinate and shape columns a little more useful by changing them to types that are a little easier to work with in Python. We'll make use of the geopandas and shapely Python modules. Why are we doing this? We want a single geographic column in each of our datasets, and in order to perform a join on those geographic columns, we need them to be respresented as types that our join function understands."
   ]
  },
  {
   "cell_type": "markdown",
   "metadata": {},
   "source": [
    "In the next cell, we'll add a new Polygon column to our shapefile dataset. We'll write a function that takes a shape that's encoded in the geojson format, and transform it into a Polygon column."
   ]
  },
  {
   "cell_type": "code",
   "execution_count": 10,
   "metadata": {},
   "outputs": [
    {
     "data": {
      "text/plain": [
       "0    POLYGON ((-122.3212292959998 47.63594613700032...\n",
       "1    POLYGON ((-122.344670652 47.70512000400004, -1...\n",
       "2    POLYGON ((-122.3555719999999 47.73412900000005...\n",
       "3    POLYGON ((-122.2727203009983 47.55368018824797...\n",
       "4    POLYGON ((-122.323296773 47.63490025000004, -1...\n",
       "Name: polygon, dtype: object"
      ]
     },
     "execution_count": 10,
     "metadata": {},
     "output_type": "execute_result"
    }
   ],
   "source": [
    "from shapely.geometry import Polygon\n",
    "\n",
    "def polygon_from_geojson(geojson):\n",
    "    return Polygon(geojson[\"coordinates\"][0][0])\n",
    "\n",
    "seattle_neighborhoods_df[\"polygon\"] = seattle_neighborhoods_df[\"the_geom\"].apply(polygon_from_geojson)\n",
    "seattle_neighborhoods_df[\"polygon\"].head()"
   ]
  },
  {
   "cell_type": "markdown",
   "metadata": {},
   "source": [
    "Next, we'll add a new Point column to our permits dataset. We write a function that takes an entire row from our dataset as an input, pulls out our latitude and longitude from that row, and returns a Point corresponding to those coordinates."
   ]
  },
  {
   "cell_type": "code",
   "execution_count": 71,
   "metadata": {},
   "outputs": [
    {
     "data": {
      "text/html": [
       "<div>\n",
       "<style scoped>\n",
       "    .dataframe tbody tr th:only-of-type {\n",
       "        vertical-align: middle;\n",
       "    }\n",
       "\n",
       "    .dataframe tbody tr th {\n",
       "        vertical-align: top;\n",
       "    }\n",
       "\n",
       "    .dataframe thead th {\n",
       "        text-align: right;\n",
       "    }\n",
       "</style>\n",
       "<table border=\"1\" class=\"dataframe\">\n",
       "  <thead>\n",
       "    <tr style=\"text-align: right;\">\n",
       "      <th></th>\n",
       "      <th>applieddate</th>\n",
       "      <th>latitude</th>\n",
       "      <th>longitude</th>\n",
       "      <th>point</th>\n",
       "    </tr>\n",
       "  </thead>\n",
       "  <tbody>\n",
       "    <tr>\n",
       "      <th>0</th>\n",
       "      <td>2018-11-14</td>\n",
       "      <td>47.605013</td>\n",
       "      <td>-122.329895</td>\n",
       "      <td>POINT (-122.32989532 47.60501319)</td>\n",
       "    </tr>\n",
       "    <tr>\n",
       "      <th>1</th>\n",
       "      <td>2018-11-27</td>\n",
       "      <td>47.689684</td>\n",
       "      <td>-122.352804</td>\n",
       "      <td>POINT (-122.35280411 47.68968405)</td>\n",
       "    </tr>\n",
       "    <tr>\n",
       "      <th>2</th>\n",
       "      <td>2019-03-20</td>\n",
       "      <td>47.638894</td>\n",
       "      <td>-122.371199</td>\n",
       "      <td>POINT (-122.37119949 47.63889401)</td>\n",
       "    </tr>\n",
       "    <tr>\n",
       "      <th>3</th>\n",
       "      <td>2018-07-31</td>\n",
       "      <td>47.617335</td>\n",
       "      <td>-122.320567</td>\n",
       "      <td>POINT (-122.32056748 47.61733542)</td>\n",
       "    </tr>\n",
       "    <tr>\n",
       "      <th>4</th>\n",
       "      <td>2015-11-04</td>\n",
       "      <td>47.621277</td>\n",
       "      <td>-122.316535</td>\n",
       "      <td>POINT (-122.31653528 47.62127688)</td>\n",
       "    </tr>\n",
       "  </tbody>\n",
       "</table>\n",
       "</div>"
      ],
      "text/plain": [
       "  applieddate   latitude   longitude                              point\n",
       "0  2018-11-14  47.605013 -122.329895  POINT (-122.32989532 47.60501319)\n",
       "1  2018-11-27  47.689684 -122.352804  POINT (-122.35280411 47.68968405)\n",
       "2  2019-03-20  47.638894 -122.371199  POINT (-122.37119949 47.63889401)\n",
       "3  2018-07-31  47.617335 -122.320567  POINT (-122.32056748 47.61733542)\n",
       "4  2015-11-04  47.621277 -122.316535  POINT (-122.31653528 47.62127688)"
      ]
     },
     "execution_count": 71,
     "metadata": {},
     "output_type": "execute_result"
    }
   ],
   "source": [
    "# create a new point column from latitude and longitude columns in permits dataset\n",
    "def point_from_coordinates(row):\n",
    "    coordinates = (row[\"longitude\"], row[\"latitude\"])\n",
    "    return Point(coordinates)\n",
    "\n",
    "seattle_permits_df[\"latitude\"] = pd.to_numeric(seattle_permits_df[\"latitude\"])\n",
    "seattle_permits_df[\"longitude\"] = pd.to_numeric(seattle_permits_df[\"longitude\"])\n",
    "seattle_permits_df[\"point\"] = seattle_permits_df.apply(point_from_coordinates, axis=1)\n",
    "seattle_permits_df.head()"
   ]
  },
  {
   "cell_type": "markdown",
   "metadata": {},
   "source": [
    "## Performing a spatial join"
   ]
  },
  {
   "cell_type": "markdown",
   "metadata": {},
   "source": [
    "Now that we our landuse dataframe and our neighborhoods dataframe, each with geometry columns, that next thing we want to do is perform a spatial join so we can have a single dataframe tying permits to neighborhoods. This will allow us to compare across neighborhoods, just as we did with the heat map earlier."
   ]
  },
  {
   "cell_type": "code",
   "execution_count": 72,
   "metadata": {},
   "outputs": [
    {
     "data": {
      "text/html": [
       "<div>\n",
       "<style scoped>\n",
       "    .dataframe tbody tr th:only-of-type {\n",
       "        vertical-align: middle;\n",
       "    }\n",
       "\n",
       "    .dataframe tbody tr th {\n",
       "        vertical-align: top;\n",
       "    }\n",
       "\n",
       "    .dataframe thead th {\n",
       "        text-align: right;\n",
       "    }\n",
       "</style>\n",
       "<table border=\"1\" class=\"dataframe\">\n",
       "  <thead>\n",
       "    <tr style=\"text-align: right;\">\n",
       "      <th></th>\n",
       "      <th>applieddate</th>\n",
       "      <th>name</th>\n",
       "    </tr>\n",
       "  </thead>\n",
       "  <tbody>\n",
       "    <tr>\n",
       "      <th>0</th>\n",
       "      <td>2018-11-14</td>\n",
       "      <td>Downtown</td>\n",
       "    </tr>\n",
       "    <tr>\n",
       "      <th>10</th>\n",
       "      <td>2017-04-21</td>\n",
       "      <td>Downtown</td>\n",
       "    </tr>\n",
       "    <tr>\n",
       "      <th>19</th>\n",
       "      <td>2018-10-18</td>\n",
       "      <td>Downtown</td>\n",
       "    </tr>\n",
       "    <tr>\n",
       "      <th>34</th>\n",
       "      <td>2019-03-20</td>\n",
       "      <td>Downtown</td>\n",
       "    </tr>\n",
       "    <tr>\n",
       "      <th>59</th>\n",
       "      <td>2018-10-18</td>\n",
       "      <td>Downtown</td>\n",
       "    </tr>\n",
       "  </tbody>\n",
       "</table>\n",
       "</div>"
      ],
      "text/plain": [
       "   applieddate      name\n",
       "0   2018-11-14  Downtown\n",
       "10  2017-04-21  Downtown\n",
       "19  2018-10-18  Downtown\n",
       "34  2019-03-20  Downtown\n",
       "59  2018-10-18  Downtown"
      ]
     },
     "execution_count": 72,
     "metadata": {},
     "output_type": "execute_result"
    }
   ],
   "source": [
    "import geopandas as gpd\n",
    "permits_geo_df = gpd.GeoDataFrame(seattle_permits_df, geometry='point')\n",
    "neighborhoods_geo_df = gpd.GeoDataFrame(seattle_neighborhoods_df, geometry='polygon')\n",
    "\n",
    "joined_df = pd.DataFrame(gpd.sjoin(permits_geo_df, neighborhoods_geo_df, how=\"inner\", op=\"within\", rsuffix=\"neighborhood_\"))\n",
    "joined_df = joined_df[[\"applieddate\", \"name\"]]#.sort_values(\"applieddate\")  # ROBERT TODO: can I remove the sort?\n",
    "\n",
    "## TODO: print the first rows of the joined data frame `joined_df`\n",
    "joined_df.head()"
   ]
  },
  {
   "cell_type": "markdown",
   "metadata": {},
   "source": [
    "## Aggregating based on neighborhood"
   ]
  },
  {
   "cell_type": "markdown",
   "metadata": {},
   "source": [
    "Neat! Now that we have a single dataset with each row corresponding to a permit and its corresponding neighborhood, we can group our dataset by neighborhood, which is the first step to exploring the number of permits by neighborhood. To make our neighborhood-based analysis a little more digestible, we'll restrict it to a subset of Seattle neighborhoods."
   ]
  },
  {
   "cell_type": "code",
   "execution_count": 73,
   "metadata": {},
   "outputs": [
    {
     "data": {
      "text/html": [
       "<div>\n",
       "<style scoped>\n",
       "    .dataframe tbody tr th:only-of-type {\n",
       "        vertical-align: middle;\n",
       "    }\n",
       "\n",
       "    .dataframe tbody tr th {\n",
       "        vertical-align: top;\n",
       "    }\n",
       "\n",
       "    .dataframe thead th {\n",
       "        text-align: right;\n",
       "    }\n",
       "</style>\n",
       "<table border=\"1\" class=\"dataframe\">\n",
       "  <thead>\n",
       "    <tr style=\"text-align: right;\">\n",
       "      <th></th>\n",
       "      <th>applieddate</th>\n",
       "    </tr>\n",
       "    <tr>\n",
       "      <th>name</th>\n",
       "      <th></th>\n",
       "    </tr>\n",
       "  </thead>\n",
       "  <tbody>\n",
       "    <tr>\n",
       "      <th>Ballard</th>\n",
       "      <td>1991</td>\n",
       "    </tr>\n",
       "    <tr>\n",
       "      <th>Capitol Hill</th>\n",
       "      <td>3759</td>\n",
       "    </tr>\n",
       "    <tr>\n",
       "      <th>Magnolia</th>\n",
       "      <td>3874</td>\n",
       "    </tr>\n",
       "    <tr>\n",
       "      <th>North Beacon Hill</th>\n",
       "      <td>1636</td>\n",
       "    </tr>\n",
       "    <tr>\n",
       "      <th>Pioneer Square</th>\n",
       "      <td>885</td>\n",
       "    </tr>\n",
       "    <tr>\n",
       "      <th>South Lake Union</th>\n",
       "      <td>2389</td>\n",
       "    </tr>\n",
       "  </tbody>\n",
       "</table>\n",
       "</div>"
      ],
      "text/plain": [
       "                   applieddate\n",
       "name                          \n",
       "Ballard                   1991\n",
       "Capitol Hill              3759\n",
       "Magnolia                  3874\n",
       "North Beacon Hill         1636\n",
       "Pioneer Square             885\n",
       "South Lake Union          2389"
      ]
     },
     "execution_count": 73,
     "metadata": {},
     "output_type": "execute_result"
    }
   ],
   "source": [
    "neighborhoods_of_interest = set([\"Ballard\", \"Capitol Hill\", \"Magnolia\", \"South Lake Union\", \"North Beacon Hill\", \"Pioneer Square\"])\n",
    "\n",
    "def is_neighborhood_of_interest(neighborhood):\n",
    "    return neighborhood in neighborhoods_of_interest\n",
    "\n",
    "subset_df = joined_df[joined_df[\"name\"].apply(is_neighborhood_of_interest)]\n",
    "subset_df = subset_df.groupby(\"name\")\n",
    "subset_df.count()"
   ]
  },
  {
   "cell_type": "markdown",
   "metadata": {},
   "source": [
    "## Aggregating based on date"
   ]
  },
  {
   "cell_type": "markdown",
   "metadata": {},
   "source": [
    "Having grouped our data based on neighborhood, the next thing we want to do is look at one aspect of the data that was missing from the choropleth map -- time. Just as we did with the `Point` and `Polygon` columns previously, we need to convert the `applieddate` column type in the permits dataframe to a `datetime` in order to benefit from some time-based functionality in Python. We'll also filter out dates before 2005 and during 2019 so the years comparable."
   ]
  },
  {
   "cell_type": "code",
   "execution_count": 74,
   "metadata": {},
   "outputs": [
    {
     "data": {
      "text/html": [
       "<div>\n",
       "<style scoped>\n",
       "    .dataframe tbody tr th:only-of-type {\n",
       "        vertical-align: middle;\n",
       "    }\n",
       "\n",
       "    .dataframe tbody tr th {\n",
       "        vertical-align: top;\n",
       "    }\n",
       "\n",
       "    .dataframe thead th {\n",
       "        text-align: right;\n",
       "    }\n",
       "</style>\n",
       "<table border=\"1\" class=\"dataframe\">\n",
       "  <thead>\n",
       "    <tr style=\"text-align: right;\">\n",
       "      <th></th>\n",
       "      <th>name</th>\n",
       "    </tr>\n",
       "    <tr>\n",
       "      <th>applieddate</th>\n",
       "      <th></th>\n",
       "    </tr>\n",
       "  </thead>\n",
       "  <tbody>\n",
       "    <tr>\n",
       "      <th>2018-10-13</th>\n",
       "      <td>Ballard</td>\n",
       "    </tr>\n",
       "    <tr>\n",
       "      <th>2017-10-31</th>\n",
       "      <td>Ballard</td>\n",
       "    </tr>\n",
       "    <tr>\n",
       "      <th>2018-03-15</th>\n",
       "      <td>Ballard</td>\n",
       "    </tr>\n",
       "    <tr>\n",
       "      <th>2015-11-16</th>\n",
       "      <td>Ballard</td>\n",
       "    </tr>\n",
       "    <tr>\n",
       "      <th>2018-09-06</th>\n",
       "      <td>Ballard</td>\n",
       "    </tr>\n",
       "  </tbody>\n",
       "</table>\n",
       "</div>"
      ],
      "text/plain": [
       "                name\n",
       "applieddate         \n",
       "2018-10-13   Ballard\n",
       "2017-10-31   Ballard\n",
       "2018-03-15   Ballard\n",
       "2015-11-16   Ballard\n",
       "2018-09-06   Ballard"
      ]
     },
     "execution_count": 74,
     "metadata": {},
     "output_type": "execute_result"
    }
   ],
   "source": [
    "import datetime\n",
    "\n",
    "def is_between_2005_and_2018(date):\n",
    "    return date > datetime.datetime(2005, 1, 1) and date < datetime.datetime(2019, 1, 1)\n",
    "\n",
    "def update_neighborhood_dataframe(dataframe):\n",
    "    dataframe[\"applieddate\"] = dataframe[\"applieddate\"].apply(pd.to_datetime)\n",
    "    dataframe = dataframe[dataframe[\"applieddate\"].apply(is_between_2005_and_2018)]\n",
    "    return dataframe\n",
    "\n",
    "subset_df = subset_df.apply(update_neighborhood_dataframe)\n",
    "subset_df = subset_df.set_index(subset_df[\"applieddate\"]).drop([\"applieddate\"], axis=1)\n",
    "subset_df.head()"
   ]
  },
  {
   "cell_type": "markdown",
   "metadata": {},
   "source": [
    "## Plotting a time series"
   ]
  },
  {
   "cell_type": "markdown",
   "metadata": {},
   "source": [
    "Finally, with our data grouped by neighborhood and by month, let's visualize it! The code below is somewhat complex, so we won't go into it in detail. But the gist is this: we iterate over our groups (neighborhoods) and create a time series plot for each, labeling each plot based on its name, and coloring our line purple just because who doesn't like purple?"
   ]
  },
  {
   "cell_type": "code",
   "execution_count": 75,
   "metadata": {},
   "outputs": [
    {
     "data": {
      "image/png": "[encoded data removed]",
      "text/plain": [
       "<Figure size 1080x1080 with 6 Axes>"
      ]
     },
     "metadata": {},
     "output_type": "display_data"
    }
   ],
   "source": [
    "import matplotlib.pyplot as plt\n",
    "from matplotlib.ticker import FormatStrFormatter\n",
    "from pandas.plotting import register_matplotlib_converters\n",
    "register_matplotlib_converters()\n",
    "plt.style.use('ggplot')\n",
    "\n",
    "ncols=2\n",
    "nrows=3\n",
    "\n",
    "fig, axes = plt.subplots(nrows=nrows, ncols=ncols, figsize=(15,15))\n",
    "\n",
    "for (name, neighborhood_df), axis in zip(grouped.groupby(level=0), axes.flatten()):\n",
    "    axis.xaxis.label.set_visible(False)\n",
    "    axis.set_ylim(0, 75)\n",
    "    axis.set_xlim(left=datetime.date(2000, 1, 1), right=datetime.date(2018, 12, 31))\n",
    "    axis.yaxis.set_major_formatter(FormatStrFormatter('%g'))\n",
    "    neighborhood_df.xs(name).plot(title=name, style=\"\", ax=axis, legend=False, color=\"purple\")\n"
   ]
  },
  {
   "cell_type": "markdown",
   "metadata": {},
   "source": [
    "What are your observations based on these plots?"
   ]
  },
  {
   "cell_type": "markdown",
   "metadata": {},
   "source": [
    "## Understanding trend and seasonality"
   ]
  },
  {
   "cell_type": "markdown",
   "metadata": {},
   "source": [
    "Let's select one of these neighboorhoods to drill in on. I'm partial to Ballard.\n",
    "\n",
    "The statsmodels package in Python gives us a really useful set of tools for analyzing time series data. In particular, we can use the `seasonal_decompose` method to breakdown a time series into consituent series corresponding to the longterm trend in the data, the seasonal aspect of the data, and noise."
   ]
  },
  {
   "cell_type": "code",
   "execution_count": 26,
   "metadata": {},
   "outputs": [
    {
     "data": {
      "image/png": "[encoded data removed]",
      "text/plain": [
       "<Figure size 432x288 with 4 Axes>"
      ]
     },
     "metadata": {},
     "output_type": "display_data"
    }
   ],
   "source": [
    "import statsmodels\n",
    "from statsmodels.tsa.seasonal import seasonal_decompose\n",
    "\n",
    "name, neighborhood_df = list(grouped.groupby(level=0))[0] # Ballard\n",
    "result = seasonal_decompose(neighborhood_df.xs(name))\n",
    "fig = result.plot()"
   ]
  }
 ],
 "metadata": {
  "kernelspec": {
   "display_name": "Python 3",
   "language": "python",
   "name": "python3"
  },
  "language_info": {
   "codemirror_mode": {
    "name": "ipython",
    "version": 3
   },
   "file_extension": ".py",
   "mimetype": "text/x-python",
   "name": "python",
   "nbconvert_exporter": "python",
   "pygments_lexer": "ipython3",
   "version": "3.7.3"
  }
 },
 "nbformat": 4,
 "nbformat_minor": 2
}
